{
 "cells": [
  {
   "cell_type": "code",
   "execution_count": 1,
   "metadata": {
    "collapsed": true
   },
   "outputs": [],
   "source": [
    "# imports\n",
    "import pandas as pd\n",
    "import numpy as np\n",
    "import glob, os\n",
    "import matplotlib.pyplot as plt"
   ]
  },
  {
   "cell_type": "code",
   "execution_count": 2,
   "metadata": {},
   "outputs": [
    {
     "name": "stdout",
     "output_type": "stream",
     "text": [
      "['tao_paper/AH22-C2.xlsx', 'tao_paper/AH24-A.xlsx', 'tao_paper/AH30-C2.xlsx', 'tao_paper/AH46-C.xlsx', 'tao_paper/AS-Tao-P5-6_9K.xlsx', 'tao_paper/SSY-Tao-18_7K.xlsx']\n"
     ]
    }
   ],
   "source": [
    "# fetch excel file names\n",
    "path = \"tao_paper\"\n",
    "excel_files = []\n",
    "for file in os.listdir(path):\n",
    "    if file.endswith(\".xlsx\"):\n",
    "        excel_files.append(os.path.join(path, file))\n",
    "print(excel_files)"
   ]
  },
  {
   "cell_type": "code",
   "execution_count": 3,
   "metadata": {},
   "outputs": [
    {
     "name": "stdout",
     "output_type": "stream",
     "text": [
      "tao_paper/AH22-C2.xlsx\n",
      "tao_paper/AH24-A.xlsx\n",
      "tao_paper/AH30-C2.xlsx\n",
      "tao_paper/AH46-C.xlsx\n",
      "tao_paper/AS-Tao-P5-6_9K.xlsx\n",
      "tao_paper/SSY-Tao-18_7K.xlsx\n"
     ]
    }
   ],
   "source": [
    "# read in excel files into dataframes\n",
    "dfs = []\n",
    "for excel_file in excel_files:\n",
    "    print(excel_file)\n",
    "    xls = pd.ExcelFile(excel_file)\n",
    "    dfs.append(pd.read_excel(xls, 'Raw Data', header=23)[23:].reset_index().drop('index', axis=1))"
   ]
  },
  {
   "cell_type": "code",
   "execution_count": 4,
   "metadata": {
    "collapsed": true
   },
   "outputs": [],
   "source": [
    "# truncate start data\n",
    "truncate_index = []\n",
    "for df in dfs:\n",
    "    for i in range(len(df)):\n",
    "        if (df.iloc[i]['Response Trace 4'] > -100):\n",
    "            truncate_index.append(i)\n",
    "            break\n",
    "for i in range(len(dfs)):\n",
    "    dfs[i] = dfs[i][truncate_index[i]:].dropna().reset_index().drop('index', axis=1)"
   ]
  },
  {
   "cell_type": "code",
   "execution_count": 5,
   "metadata": {},
   "outputs": [],
   "source": [
    "dfs_new = []\n",
    "for j in range(len(dfs)):\n",
    "    rt_corrected = []\n",
    "    for i in range(len(dfs[j])):\n",
    "        x = dfs[j]['RT (mins)'][i]\n",
    "        y_curr = dfs[j]['Response Trace 4'][i]\n",
    "        rt_corrected.append(y_curr - (dfs[j].loc[0]['Response Trace 4'] + dfs[j].loc[len(dfs[j]) - 1]['Response Trace 4'])/(35)*x)\n",
    "    dfs_new.append(pd.concat([dfs[j], pd.DataFrame({'RT Corrected': rt_corrected})], axis=1, sort=False))"
   ]
  },
  {
   "cell_type": "code",
   "execution_count": 7,
   "metadata": {
    "collapsed": true
   },
   "outputs": [],
   "source": [
    "# plot data and save as png \n",
    "for i in range(len(dfs)):\n",
    "    plt.figure()\n",
    "    #plt.plot(dfs[i]['RT (mins)'], dfs[i]['Response Trace 1'], label='RT 1')\n",
    "    #plt.plot(dfs[i]['RT (mins)'], dfs[i]['Response Trace 2'], label='RT 2')\n",
    "    #plt.plot(dfs[i]['RT (mins)'], dfs[i]['Response Trace 3'], label='RT 3')\n",
    "    #plt.plot(dfs[i]['RT (mins)'], dfs[i]['Response Trace 4'], 'k-', label='RT 4')\n",
    "    plt.plot(dfs_new[i]['RT (mins)'], dfs_new[i]['RT Corrected'], 'k-', label='RT Corrected')\n",
    "    plt.xlabel(\"time (mins)\")\n",
    "    plt.ylabel(\"nRIU\")\n",
    "    #plt.legend()\n",
    "    #plt.grid()\n",
    "    plt.savefig(excel_files[i].replace(\".xlsx\", \"\"), dpi=300, bbox_inches='tight')"
   ]
  },
  {
   "cell_type": "code",
   "execution_count": null,
   "metadata": {
    "collapsed": true
   },
   "outputs": [],
   "source": []
  }
 ],
 "metadata": {
  "kernelspec": {
   "display_name": "Python 3",
   "language": "python",
   "name": "python3"
  },
  "language_info": {
   "codemirror_mode": {
    "name": "ipython",
    "version": 3
   },
   "file_extension": ".py",
   "mimetype": "text/x-python",
   "name": "python",
   "nbconvert_exporter": "python",
   "pygments_lexer": "ipython3",
   "version": "3.6.1"
  }
 },
 "nbformat": 4,
 "nbformat_minor": 2
}
