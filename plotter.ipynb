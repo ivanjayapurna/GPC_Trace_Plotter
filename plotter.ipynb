{
 "cells": [
  {
   "cell_type": "code",
   "execution_count": 20,
   "metadata": {
    "collapsed": true
   },
   "outputs": [],
   "source": [
    "# imports\n",
    "import pandas as pd\n",
    "import numpy as np\n",
    "import glob, os\n",
    "import matplotlib.pyplot as plt"
   ]
  },
  {
   "cell_type": "code",
   "execution_count": 24,
   "metadata": {},
   "outputs": [
    {
     "name": "stdout",
     "output_type": "stream",
     "text": [
      "['IJ3/IJ2_1_lyo.xlsx', 'IJ3/IJ2_1.xlsx', 'IJ3/IJ3.xlsx', 'IJ3/IJ2_1_v2.xlsx']\n"
     ]
    }
   ],
   "source": [
    "# fetch excel file names\n",
    "path = \"IJ3\"\n",
    "excel_files = []\n",
    "for file in os.listdir(path):\n",
    "    if file.endswith(\".xlsx\"):\n",
    "        excel_files.append(os.path.join(path, file))\n",
    "print(excel_files)"
   ]
  },
  {
   "cell_type": "code",
   "execution_count": 25,
   "metadata": {},
   "outputs": [
    {
     "name": "stdout",
     "output_type": "stream",
     "text": [
      "IJ3/IJ2_1_lyo.xlsx\n",
      "IJ3/IJ2_1.xlsx\n",
      "IJ3/IJ3.xlsx\n",
      "IJ3/IJ2_1_v2.xlsx\n"
     ]
    }
   ],
   "source": [
    "# read in excel files into dataframes\n",
    "dfs = []\n",
    "for excel_file in excel_files:\n",
    "    print(excel_file)\n",
    "    xls = pd.ExcelFile(excel_file)\n",
    "    dfs.append(pd.read_excel(xls, 'Raw Data', header=23)[23:].reset_index().drop('index', axis=1))"
   ]
  },
  {
   "cell_type": "code",
   "execution_count": 26,
   "metadata": {
    "collapsed": true
   },
   "outputs": [],
   "source": [
    "# truncate start data\n",
    "truncate_index = []\n",
    "for df in dfs:\n",
    "    for i in range(len(df)):\n",
    "        if (df.iloc[i]['Response Trace 4'] > -100):\n",
    "            truncate_index.append(i)\n",
    "            break\n",
    "for i in range(len(dfs)):\n",
    "    dfs[i] = dfs[i][truncate_index[i]:].dropna().reset_index().drop('index', axis=1)"
   ]
  },
  {
   "cell_type": "code",
   "execution_count": 27,
   "metadata": {
    "collapsed": true
   },
   "outputs": [],
   "source": [
    "dfs_new = []\n",
    "for j in range(len(dfs)):\n",
    "    rt_corrected = []\n",
    "    for i in range(len(dfs[j])):\n",
    "        x = dfs[j]['RT (mins)'][i]\n",
    "        y_curr = dfs[j]['Response Trace 4'][i]\n",
    "        rt_corrected.append(y_curr - (dfs[j].loc[0]['Response Trace 4'] + dfs[j].loc[len(dfs[j]) - 1]['Response Trace 4'])/(35)*x)\n",
    "    dfs_new.append(pd.concat([dfs[j], pd.DataFrame({'RT Corrected': rt_corrected})], axis=1, sort=False))"
   ]
  },
  {
   "cell_type": "code",
   "execution_count": 28,
   "metadata": {
    "collapsed": true
   },
   "outputs": [],
   "source": [
    "# plot data on separate plots and save as png \n",
    "for i in range(len(dfs)):\n",
    "    plt.figure()\n",
    "    #plt.plot(dfs[i]['RT (mins)'], dfs[i]['Response Trace 1'], label='RT 1')\n",
    "    #plt.plot(dfs[i]['RT (mins)'], dfs[i]['Response Trace 2'], label='RT 2')\n",
    "    #plt.plot(dfs[i]['RT (mins)'], dfs[i]['Response Trace 3'], label='RT 3')\n",
    "    #plt.plot(dfs[i]['RT (mins)'], dfs[i]['Response Trace 4'], 'k-', label='RT 4')\n",
    "    plt.plot(dfs_new[i]['RT (mins)'], dfs_new[i]['RT Corrected'], 'k-', lw=0.5, label='RT Corrected')\n",
    "    plt.xlabel(\"time (mins)\")\n",
    "    plt.ylabel(\"nRIU\")\n",
    "    #plt.legend()\n",
    "    #plt.grid()\n",
    "    plt.savefig(excel_files[i].replace(\".xlsx\", \"\"), dpi=300, bbox_inches='tight')\n",
    "plt.close('all')"
   ]
  },
  {
   "cell_type": "code",
   "execution_count": 29,
   "metadata": {},
   "outputs": [],
   "source": [
    "# plot all data on 1 overlay plot and save as png \n",
    "plt.figure()\n",
    "plt.xlabel(\"time (mins)\")\n",
    "plt.ylabel(\"nRIU\")\n",
    "#plt.grid(b=None)\n",
    "for i in range(len(dfs)):\n",
    "    plt.plot(dfs_new[i]['RT (mins)'], dfs_new[i]['RT Corrected'], '-', lw=0.5, label=excel_files[i].replace(\".xlsx\", \"\"))\n",
    "plt.legend()\n",
    "plt.savefig(path + '/overlay', dpi=300, bbox_inches='tight')\n",
    "plt.close('all')"
   ]
  },
  {
   "cell_type": "code",
   "execution_count": 30,
   "metadata": {},
   "outputs": [],
   "source": [
    "# zoomed in region of overlay plot saved as a png \n",
    "L_cut = 2500\n",
    "R_cut = 3050\n",
    "plt.figure()\n",
    "plt.xlabel(\"time (mins)\")\n",
    "plt.ylabel(\"nRIU\")\n",
    "#plt.grid(b=None)\n",
    "for i in range(len(dfs)):\n",
    "    plt.plot(dfs_new[i]['RT (mins)'][L_cut:R_cut], dfs_new[i]['RT Corrected'][L_cut:R_cut], '-', lw=0.5, label=excel_files[i].replace(\".xlsx\", \"\"))\n",
    "plt.legend()\n",
    "plt.savefig(path + '/zoomed_overlay', dpi=300, bbox_inches='tight')\n",
    "plt.close('all')"
   ]
  },
  {
   "cell_type": "code",
   "execution_count": 36,
   "metadata": {},
   "outputs": [
    {
     "name": "stdout",
     "output_type": "stream",
     "text": [
      "IJ3/IJ2_1_lyo Integrated Peak Area: 591054.9354821619\n",
      "IJ3/IJ2_1 Integrated Peak Area: 540565.0381226097\n",
      "IJ3/IJ3 Integrated Peak Area: 230695.35791081557\n",
      "IJ3/IJ2_1_v2 Integrated Peak Area: 632872.6023414368\n"
     ]
    }
   ],
   "source": [
    "# integrate zoomed region (i.e. peaks) to get area ratios\n",
    "for i in range(len(dfs)):\n",
    "    print(excel_files[i].replace(\".xlsx\", \"\") + ' Integrated Peak Area:', np.sum(dfs_new[i]['RT Corrected'][L_cut:R_cut]))"
   ]
  },
  {
   "cell_type": "code",
   "execution_count": 42,
   "metadata": {},
   "outputs": [
    {
     "name": "stdout",
     "output_type": "stream",
     "text": [
      "% RHP Lost = 60.77704813457117\n"
     ]
    }
   ],
   "source": [
    "#IJ3 Specific: take ratio of pure RHP peak : Leftover RHP peak areas\n",
    "print('% RHP Lost =', (1 - 230695.35791081557/ ((591054.9354821619+540565.0381226097+632872.6023414368)/3))*100 )\n",
    "  "
   ]
  },
  {
   "cell_type": "code",
   "execution_count": null,
   "metadata": {
    "collapsed": true
   },
   "outputs": [],
   "source": []
  }
 ],
 "metadata": {
  "kernelspec": {
   "display_name": "Python 3",
   "language": "python",
   "name": "python3"
  },
  "language_info": {
   "codemirror_mode": {
    "name": "ipython",
    "version": 3
   },
   "file_extension": ".py",
   "mimetype": "text/x-python",
   "name": "python",
   "nbconvert_exporter": "python",
   "pygments_lexer": "ipython3",
   "version": "3.6.1"
  }
 },
 "nbformat": 4,
 "nbformat_minor": 2
}
