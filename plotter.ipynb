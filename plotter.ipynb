{
 "cells": [
  {
   "cell_type": "code",
   "execution_count": 1,
   "metadata": {
    "collapsed": true
   },
   "outputs": [],
   "source": [
    "# imports\n",
    "import pandas as pd\n",
    "import numpy as np\n",
    "import glob, os\n",
    "import matplotlib.pyplot as plt\n",
    "\n",
    "GPC_SOLVENT = \"THF\" #\"DMF\" or \"THF\""
   ]
  },
  {
   "cell_type": "code",
   "execution_count": 2,
   "metadata": {},
   "outputs": [
    {
     "name": "stdout",
     "output_type": "stream",
     "text": [
      "['IJ88/CR.xlsx', 'IJ88/PCL.xlsx', 'IJ88/CA.xlsx', 'IJ88/AN.xlsx', 'IJ88/BC.xlsx', 'IJ88/ProK.xlsx', 'IJ88/PF.xlsx']\n"
     ]
    }
   ],
   "source": [
    "# fetch excel file names\n",
    "path = \"IJ88\"\n",
    "excel_files = []\n",
    "for file in os.listdir(path):\n",
    "    if file.endswith(\".xlsx\"):\n",
    "        excel_files.append(os.path.join(path, file))\n",
    "print(excel_files)"
   ]
  },
  {
   "cell_type": "code",
   "execution_count": 36,
   "metadata": {},
   "outputs": [
    {
     "name": "stdout",
     "output_type": "stream",
     "text": [
      "IJ88/CR.xlsx\n",
      "IJ88/PCL.xlsx\n",
      "IJ88/CA.xlsx\n",
      "IJ88/AN.xlsx\n",
      "IJ88/BC.xlsx\n",
      "IJ88/ProK.xlsx\n",
      "IJ88/PF.xlsx\n"
     ]
    }
   ],
   "source": [
    "# read in excel files into dataframes\n",
    "\n",
    "if GPC_SOLVENT == \"DMF\":\n",
    "    HEADER = 23\n",
    "elif GPC_SOLVENT == \"THF\":\n",
    "    HEADER = 20\n",
    "else:\n",
    "    raise Exception(\"Not a valid GPC Solvent\")\n",
    "\n",
    "dfs = []\n",
    "for excel_file in excel_files:\n",
    "    print(excel_file)\n",
    "    xls = pd.ExcelFile(excel_file)\n",
    "    dfs.append(pd.read_excel(xls, 'Raw Data', header=HEADER)[HEADER:].reset_index().drop('index', axis=1))"
   ]
  },
  {
   "cell_type": "code",
   "execution_count": 27,
   "metadata": {},
   "outputs": [],
   "source": [
    "# truncate start data\n",
    "\"\"\"\n",
    "if GPC_SOLVENT == \"DMF\":\n",
    "    RT_COL = 'Response Trace 4'\n",
    "elif GPC_SOLVENT == \"THF\":\n",
    "    RT_COL = 'Response Trace 1'\n",
    "else:\n",
    "    raise Exception(\"Not a valid GPC Solvent\")\n",
    "\n",
    "\n",
    "truncate_index = []\n",
    "for df in dfs:\n",
    "    for i in range(len(df)):\n",
    "        if (df.iloc[i][RT_COL] > -100):\n",
    "            truncate_index.append(i)\n",
    "            break\n",
    "for i in range(len(dfs)):\n",
    "    dfs[i] = dfs[i][truncate_index[i]:].dropna().reset_index().drop('index', axis=1)\n",
    "\"\"\""
   ]
  },
  {
   "cell_type": "code",
   "execution_count": 37,
   "metadata": {
    "collapsed": true
   },
   "outputs": [],
   "source": [
    "if GPC_SOLVENT == \"DMF\":\n",
    "    RT_COL = 'Response Trace 4'\n",
    "elif GPC_SOLVENT == \"THF\":\n",
    "    RT_COL = 'Response Trace 1'\n",
    "else:\n",
    "    raise Exception(\"Not a valid GPC Solvent\")\n",
    "\n",
    "dfs_new = []\n",
    "for j in range(len(dfs)):\n",
    "    rt_corrected = []\n",
    "    for i in range(len(dfs[j])):\n",
    "        x = dfs[j]['RT (mins)'][i]\n",
    "        y_curr = dfs[j][RT_COL][i]\n",
    "        rt_corrected.append( y_curr - (dfs[j].loc[0][RT_COL] + dfs[j].loc[len(dfs[j]) - 1][RT_COL])/(35)*x )\n",
    "    dfs_new.append(pd.concat([dfs[j], pd.DataFrame({'RT Corrected': rt_corrected})], axis=1, sort=False))"
   ]
  },
  {
   "cell_type": "code",
   "execution_count": 38,
   "metadata": {
    "collapsed": true
   },
   "outputs": [],
   "source": [
    "# plot data on separate plots and save as png \n",
    "for i in range(len(dfs)):\n",
    "    plt.figure()\n",
    "    #plt.plot(dfs[i]['RT (mins)'], dfs[i]['Response Trace 1'], label='RT 1')\n",
    "    #plt.plot(dfs[i]['RT (mins)'], dfs[i]['Response Trace 2'], label='RT 2')\n",
    "    #plt.plot(dfs[i]['RT (mins)'], dfs[i]['Response Trace 3'], label='RT 3')\n",
    "    #plt.plot(dfs[i]['RT (mins)'], dfs[i]['Response Trace 4'], 'k-', label='RT 4')\n",
    "    plt.plot(dfs_new[i]['RT (mins)'], dfs_new[i]['RT Corrected'], 'k-', lw=0.5, label='RT Corrected')\n",
    "    plt.xlabel(\"time (mins)\")\n",
    "    plt.ylabel(\"nRIU\")\n",
    "    #plt.legend()\n",
    "    #plt.grid()\n",
    "    plt.savefig(excel_files[i].replace(\".xlsx\", \"\"), dpi=300, bbox_inches='tight')\n",
    "plt.close('all')"
   ]
  },
  {
   "cell_type": "code",
   "execution_count": 39,
   "metadata": {
    "collapsed": true
   },
   "outputs": [],
   "source": [
    "# plot all data on 1 overlay plot and save as png \n",
    "plt.figure()\n",
    "plt.xlabel(\"time (mins)\")\n",
    "plt.ylabel(\"nRIU\")\n",
    "#plt.grid(b=None)\n",
    "for i in range(len(dfs)):\n",
    "    plt.plot(dfs_new[i]['RT (mins)'], dfs_new[i]['RT Corrected'], '-', lw=0.5, label=excel_files[i].replace(\".xlsx\", \"\"))\n",
    "plt.legend()\n",
    "plt.savefig(path + '/overlay', dpi=300, bbox_inches='tight')\n",
    "plt.close('all')"
   ]
  },
  {
   "cell_type": "code",
   "execution_count": 48,
   "metadata": {
    "collapsed": true
   },
   "outputs": [],
   "source": [
    "# zoomed in region of overlay plot saved as a png \n",
    "L_cut = 1200\n",
    "R_cut = 2100\n",
    "plt.figure()\n",
    "plt.xlabel(\"time (mins)\")\n",
    "plt.ylabel(\"nRIU\")\n",
    "#plt.grid(b=None)\n",
    "for i in range(len(dfs)):\n",
    "    plt.plot(dfs_new[i]['RT (mins)'][L_cut:R_cut], dfs_new[i]['RT Corrected'][L_cut:R_cut], '-', lw=0.5, label=excel_files[i].replace(\".xlsx\", \"\"))\n",
    "plt.legend()\n",
    "plt.savefig(path + '/zoomed_overlay', dpi=300, bbox_inches='tight')\n",
    "plt.close('all')"
   ]
  },
  {
   "cell_type": "code",
   "execution_count": 44,
   "metadata": {
    "collapsed": true
   },
   "outputs": [],
   "source": [
    "# zoomed in region of overlay plot saved as a png - MANUAL AXIS COLOURS\n",
    "\n",
    "\"\"\"\n",
    "0 IJ48/IJ48_P5_VD.xlsx\n",
    "1 IJ48/IJ48_20-50_PVD.xlsx\n",
    "2 IJ48/IJ48_P5_PVD.xlsx\n",
    "3 IJ48/IJ48_20-50_SUPER_25.xlsx\n",
    "4 IJ48/IJ48_20-50_VD.xlsx\n",
    "5 IJ48/IJ48_20-50_V.xlsx\n",
    "6 IJ48/IJ48_P5_V.xlsx\n",
    "\"\"\"\n",
    "\n",
    "L_cut = 2250\n",
    "R_cut = 3400\n",
    "plt.figure()\n",
    "plt.xlabel(\"time (mins)\")\n",
    "plt.ylabel(\"nRIU\")\n",
    "#plt.grid(b=None)\n",
    "plt.plot(dfs_new[2]['RT (mins)'][L_cut:R_cut], dfs_new[2]['RT Corrected'][L_cut:R_cut], 'b-', lw=0.5, label=\"P5 PVD\")\n",
    "plt.plot(dfs_new[0]['RT (mins)'][L_cut:R_cut], dfs_new[0]['RT Corrected'][L_cut:R_cut], 'b--', lw=0.5, label=\"P5 VD\")\n",
    "plt.plot(dfs_new[6]['RT (mins)'][L_cut:R_cut], dfs_new[6]['RT Corrected'][L_cut:R_cut], 'b-.', lw=0.5, label=\"P5 V\")\n",
    "plt.plot(dfs_new[1]['RT (mins)'][L_cut:R_cut], dfs_new[1]['RT Corrected'][L_cut:R_cut], 'g-', lw=0.5, label=\"20-50 PVD\")\n",
    "plt.plot(dfs_new[4]['RT (mins)'][L_cut:R_cut], dfs_new[4]['RT Corrected'][L_cut:R_cut], 'g--', lw=0.5, label=\"20-50 VD\")\n",
    "plt.plot(dfs_new[5]['RT (mins)'][L_cut:R_cut], dfs_new[5]['RT Corrected'][L_cut:R_cut], 'g-.', lw=0.5, label=\"20-50 V\")\n",
    "plt.plot(dfs_new[3]['RT (mins)'][L_cut:R_cut], dfs_new[3]['RT Corrected'][L_cut:R_cut], 'r', lw=0.5, label=\"20-50 Super\")\n",
    "\n",
    "\n",
    "plt.legend()\n",
    "plt.savefig(path + '/zoomed_overlay', dpi=300, bbox_inches='tight')\n",
    "plt.close('all')"
   ]
  },
  {
   "cell_type": "code",
   "execution_count": null,
   "metadata": {},
   "outputs": [],
   "source": [
    " # integrate zoomed region (i.e. peaks) to get area ratios\n",
    "for i in range(len(dfs)):\n",
    "    print(excel_files[i].replace(\".xlsx\", \"\") + ' Integrated Peak Area:', np.sum(dfs_new[i]['RT Corrected'][L_cut:R_cut]))"
   ]
  },
  {
   "cell_type": "code",
   "execution_count": null,
   "metadata": {},
   "outputs": [],
   "source": [
    "#IJ3 Specific: take ratio of pure RHP peak : Leftover RHP peak areas\n",
    "print('% RHP Lost =', (1 - 230695.35791081557/ ((591054.9354821619+540565.0381226097+632872.6023414368)/3))*100 )\n",
    "  "
   ]
  },
  {
   "cell_type": "code",
   "execution_count": null,
   "metadata": {
    "collapsed": true
   },
   "outputs": [],
   "source": []
  }
 ],
 "metadata": {
  "kernelspec": {
   "display_name": "Python 3",
   "language": "python",
   "name": "python3"
  },
  "language_info": {
   "codemirror_mode": {
    "name": "ipython",
    "version": 3
   },
   "file_extension": ".py",
   "mimetype": "text/x-python",
   "name": "python",
   "nbconvert_exporter": "python",
   "pygments_lexer": "ipython3",
   "version": "3.6.1"
  }
 },
 "nbformat": 4,
 "nbformat_minor": 2
}
