{
 "cells": [
  {
   "cell_type": "code",
   "execution_count": 1,
   "metadata": {
    "collapsed": true
   },
   "outputs": [],
   "source": [
    "# imports\n",
    "import pandas as pd\n",
    "import numpy as np\n",
    "import glob, os\n",
    "import matplotlib.pyplot as plt"
   ]
  },
  {
   "cell_type": "code",
   "execution_count": 2,
   "metadata": {},
   "outputs": [
    {
     "name": "stdout",
     "output_type": "stream",
     "text": [
      "['peg_standard/AH22-A1.xlsx', 'peg_standard/AH22-A2.xlsx', 'peg_standard/AH22-A3.xlsx', 'peg_standard/AH22-B1.xlsx', 'peg_standard/AH22-B2.xlsx', 'peg_standard/AH22-B3.xlsx', 'peg_standard/AH22-B4.xlsx', 'peg_standard/AH22-C1.xlsx', 'peg_standard/AH22-C2.xlsx', 'peg_standard/AH22-C3.xlsx', 'peg_standard/AH22-C4.xlsx']\n"
     ]
    }
   ],
   "source": [
    "# fetch excel file names\n",
    "path = \"peg_standard\"\n",
    "excel_files = []\n",
    "for file in os.listdir(path):\n",
    "    if file.endswith(\".xlsx\"):\n",
    "        excel_files.append(os.path.join(path, file))\n",
    "print(excel_files)"
   ]
  },
  {
   "cell_type": "code",
   "execution_count": 3,
   "metadata": {},
   "outputs": [
    {
     "name": "stdout",
     "output_type": "stream",
     "text": [
      "peg_standard/AH22-A1.xlsx\n",
      "peg_standard/AH22-A2.xlsx\n",
      "peg_standard/AH22-A3.xlsx\n",
      "peg_standard/AH22-B1.xlsx\n",
      "peg_standard/AH22-B2.xlsx\n",
      "peg_standard/AH22-B3.xlsx\n",
      "peg_standard/AH22-B4.xlsx\n",
      "peg_standard/AH22-C1.xlsx\n",
      "peg_standard/AH22-C2.xlsx\n",
      "peg_standard/AH22-C3.xlsx\n",
      "peg_standard/AH22-C4.xlsx\n"
     ]
    }
   ],
   "source": [
    "# read in excel files into dataframes\n",
    "dfs = []\n",
    "for excel_file in excel_files:\n",
    "    print(excel_file)\n",
    "    xls = pd.ExcelFile(excel_file)\n",
    "    dfs.append(pd.read_excel(xls, 'Raw Data', header=23)[23:].reset_index().drop('index', axis=1))"
   ]
  },
  {
   "cell_type": "code",
   "execution_count": 4,
   "metadata": {
    "collapsed": true
   },
   "outputs": [],
   "source": [
    "# truncate start data\n",
    "truncate_index = []\n",
    "for df in dfs:\n",
    "    for i in range(len(df)):\n",
    "        if (df.iloc[i]['Response Trace 4'] > -100):\n",
    "            truncate_index.append(i)\n",
    "            break\n",
    "for i in range(len(dfs)):\n",
    "    dfs[i] = dfs[i][truncate_index[i]:].dropna().reset_index().drop('index', axis=1)"
   ]
  },
  {
   "cell_type": "code",
   "execution_count": 9,
   "metadata": {},
   "outputs": [
    {
     "data": {
      "text/html": [
       "<div>\n",
       "<style scoped>\n",
       "    .dataframe tbody tr th:only-of-type {\n",
       "        vertical-align: middle;\n",
       "    }\n",
       "\n",
       "    .dataframe tbody tr th {\n",
       "        vertical-align: top;\n",
       "    }\n",
       "\n",
       "    .dataframe thead th {\n",
       "        text-align: right;\n",
       "    }\n",
       "</style>\n",
       "<table border=\"1\" class=\"dataframe\">\n",
       "  <thead>\n",
       "    <tr style=\"text-align: right;\">\n",
       "      <th></th>\n",
       "      <th>RT (mins)</th>\n",
       "      <th>Response Trace 1</th>\n",
       "      <th>Response Trace 2</th>\n",
       "      <th>Response Trace 3</th>\n",
       "      <th>Response Trace 4</th>\n",
       "      <th>RT Corrected</th>\n",
       "    </tr>\n",
       "  </thead>\n",
       "  <tbody>\n",
       "    <tr>\n",
       "      <th>0</th>\n",
       "      <td>0.383333</td>\n",
       "      <td>0.034021</td>\n",
       "      <td>0.037152</td>\n",
       "      <td>0.031146</td>\n",
       "      <td>28.610491</td>\n",
       "      <td>29.256348</td>\n",
       "    </tr>\n",
       "    <tr>\n",
       "      <th>1</th>\n",
       "      <td>0.400000</td>\n",
       "      <td>0.033282</td>\n",
       "      <td>0.031896</td>\n",
       "      <td>0.028695</td>\n",
       "      <td>28.594271</td>\n",
       "      <td>29.268209</td>\n",
       "    </tr>\n",
       "    <tr>\n",
       "      <th>2</th>\n",
       "      <td>0.416667</td>\n",
       "      <td>0.034453</td>\n",
       "      <td>0.029971</td>\n",
       "      <td>0.029218</td>\n",
       "      <td>28.757940</td>\n",
       "      <td>29.459958</td>\n",
       "    </tr>\n",
       "    <tr>\n",
       "      <th>3</th>\n",
       "      <td>0.433333</td>\n",
       "      <td>0.035234</td>\n",
       "      <td>0.029505</td>\n",
       "      <td>0.031969</td>\n",
       "      <td>29.256781</td>\n",
       "      <td>29.986880</td>\n",
       "    </tr>\n",
       "    <tr>\n",
       "      <th>4</th>\n",
       "      <td>0.450000</td>\n",
       "      <td>0.032558</td>\n",
       "      <td>0.029820</td>\n",
       "      <td>0.035113</td>\n",
       "      <td>30.119724</td>\n",
       "      <td>30.877904</td>\n",
       "    </tr>\n",
       "  </tbody>\n",
       "</table>\n",
       "</div>"
      ],
      "text/plain": [
       "   RT (mins)  Response Trace 1  Response Trace 2  Response Trace 3  \\\n",
       "0   0.383333          0.034021          0.037152          0.031146   \n",
       "1   0.400000          0.033282          0.031896          0.028695   \n",
       "2   0.416667          0.034453          0.029971          0.029218   \n",
       "3   0.433333          0.035234          0.029505          0.031969   \n",
       "4   0.450000          0.032558          0.029820          0.035113   \n",
       "\n",
       "   Response Trace 4  RT Corrected  \n",
       "0         28.610491     29.256348  \n",
       "1         28.594271     29.268209  \n",
       "2         28.757940     29.459958  \n",
       "3         29.256781     29.986880  \n",
       "4         30.119724     30.877904  "
      ]
     },
     "execution_count": 9,
     "metadata": {},
     "output_type": "execute_result"
    }
   ],
   "source": [
    "dfs_new = []\n",
    "for j in range(len(dfs)):\n",
    "    rt_corrected = []\n",
    "    for i in range(len(dfs[j])):\n",
    "        x = dfs[j]['RT (mins)'][i]\n",
    "        y_curr = dfs[j]['Response Trace 4'][i]\n",
    "        rt_corrected.append(y_curr - (dfs[j].loc[0]['Response Trace 4'] + dfs[j].loc[len(dfs[j]) - 1]['Response Trace 4'])/(35)*x)\n",
    "    dfs_new.append(pd.concat([dfs[j], pd.DataFrame({'RT Corrected': rt_corrected})], axis=1, sort=False))"
   ]
  },
  {
   "cell_type": "code",
   "execution_count": 10,
   "metadata": {},
   "outputs": [],
   "source": [
    "# plot data and save as png \n",
    "for i in range(len(dfs)):\n",
    "    plt.figure()\n",
    "    plt.plot(dfs[i]['RT (mins)'], dfs[i]['Response Trace 1'], label='RT 1')\n",
    "    #plt.plot(dfs[i]['RT (mins)'], dfs[i]['Response Trace 2'], label='RT 2')\n",
    "    #plt.plot(dfs[i]['RT (mins)'], dfs[i]['Response Trace 3'], label='RT 3')\n",
    "    plt.plot(dfs[i]['RT (mins)'], dfs[i]['Response Trace 4'], 'k-', label='RT 4')\n",
    "    plt.plot(dfs_new[i]['RT (mins)'], dfs_new[i]['RT Corrected'], label='RT Corrected')\n",
    "    plt.xlabel(\"time (mins)\")\n",
    "    plt.ylabel(\"nRIU\")\n",
    "    plt.legend()\n",
    "    #plt.grid()\n",
    "    plt.savefig(excel_files[i].replace(\".xlsx\", \"\"), dpi=300, bbox_inches='tight')"
   ]
  },
  {
   "cell_type": "code",
   "execution_count": null,
   "metadata": {
    "collapsed": true
   },
   "outputs": [],
   "source": []
  }
 ],
 "metadata": {
  "kernelspec": {
   "display_name": "Python 3",
   "language": "python",
   "name": "python3"
  },
  "language_info": {
   "codemirror_mode": {
    "name": "ipython",
    "version": 3
   },
   "file_extension": ".py",
   "mimetype": "text/x-python",
   "name": "python",
   "nbconvert_exporter": "python",
   "pygments_lexer": "ipython3",
   "version": "3.6.1"
  }
 },
 "nbformat": 4,
 "nbformat_minor": 2
}
